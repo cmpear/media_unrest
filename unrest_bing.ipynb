{
 "cells": [
  {
   "cell_type": "code",
   "execution_count": null,
   "metadata": {},
   "outputs": [],
   "source": [
    "import requests\n",
    "\n",
    "strPath = '/home/chmpearson/keys/bing_sub_key.txt'\n",
    "f = open(strPath)\n",
    "subscription_key = f.read()\n",
    "\n",
    "search_term = \"Atlanta+Violence\"\n",
    "search_url = 'https://api.cognitive.microsoft.com/bing/v7.0/news/search'\n",
    "\n",
    "headers = {\"Ocp-Apim-Subscription-Key\" : subscription_key}\n",
    "params  = {\"q\": search_term, \"textDecorations\": True, \"textFormat\": \"HTML\"}\n",
    "\n",
    "response = requests.get(search_url, headers= headers, params = params)\n",
    "response.raise_for_status()\n",
    "search_results = json.dumps(response.json() )"
   ]
  },
  {
   "cell_type": "code",
   "execution_count": null,
   "metadata": {},
   "outputs": [],
   "source": []
  }
 ],
 "metadata": {
  "language_info": {
   "codemirror_mode": {
    "name": "ipython",
    "version": 3
   },
   "file_extension": ".py",
   "mimetype": "text/x-python",
   "name": "python",
   "nbconvert_exporter": "python",
   "pygments_lexer": "ipython3",
   "version": 3
  },
  "orig_nbformat": 2
 },
 "nbformat": 4,
 "nbformat_minor": 2
}